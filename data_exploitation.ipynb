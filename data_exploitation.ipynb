{
 "cells": [
  {
   "cell_type": "markdown",
   "metadata": {},
   "source": [
    "Mohammad Mahdi Gheidi\n",
    "\n",
    "98105976\n",
    "\n",
    "Natural Language Processing Course - HW1 \n",
    "\n",
    "Fall 2023 - Dr. Ehsaneddin Asgari\n"
   ]
  },
  {
   "cell_type": "markdown",
   "metadata": {},
   "source": [
    "در این نوت‌بوک به بررسی و آنالیز داده‌های آگهی‌های دسته خودروی سواری سایت دیوار خواهیم پرداخت.\n",
    "\n",
    "داده‌های مورد استفاده در این نوتبوک به وسیله اسکریپت نوشته شده پایتون که کنار این فایل قرار دارد، از سایت دیوار کراول شده است.\n",
    "\n",
    "در ابتدا داده‌ها را لود می‌کنیم و داده‌های مربوط به هر شهر را در متغیر‌های مربوط به خودش قرار می‌دهیم.\n",
    "\n",
    "سپس به وسیله ابزار هضم، به پاکسازی داده‌ها و نرمال کردنشان می‌پردازیم.\n",
    "\n",
    "در انتها نیز به بررسی و آنالیز داده‌های مربوط به آگهی‌ها می‌پردازیم."
   ]
  },
  {
   "cell_type": "code",
   "execution_count": null,
   "metadata": {},
   "outputs": [],
   "source": [
    "%pip install -r requirements.txt"
   ]
  }
 ],
 "metadata": {
  "language_info": {
   "name": "python"
  }
 },
 "nbformat": 4,
 "nbformat_minor": 2
}
